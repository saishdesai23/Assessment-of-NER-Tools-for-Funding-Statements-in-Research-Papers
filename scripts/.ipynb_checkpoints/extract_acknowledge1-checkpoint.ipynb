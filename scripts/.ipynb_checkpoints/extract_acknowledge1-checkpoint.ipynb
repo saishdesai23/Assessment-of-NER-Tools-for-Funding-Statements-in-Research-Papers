{
 "cells": [
  {
   "cell_type": "code",
   "execution_count": 1,
   "id": "ed41bcfa",
   "metadata": {
    "id": "ed41bcfa"
   },
   "outputs": [],
   "source": [
    "import bs4 # to read xml tree structure\n",
    "from bs4 import BeautifulSoup as bs\n",
    "import os\n",
    "import csv\n",
    "import pandas as pd"
   ]
  },
  {
   "cell_type": "code",
   "execution_count": 2,
   "id": "9f8ab355",
   "metadata": {
    "id": "9f8ab355"
   },
   "outputs": [],
   "source": [
    "xml_dir = \"../data/xml\" # directory to store all the xml files\n",
    "xml_list = [] # list of all the xml files\n",
    "for ele in os.listdir(xml_dir):\n",
    "    xml_list.append(os.path.join(xml_dir,ele))"
   ]
  },
  {
   "cell_type": "code",
   "execution_count": 3,
   "id": "f21eaacd",
   "metadata": {},
   "outputs": [
    {
     "data": {
      "text/plain": [
       "['../data/xml/pmc_result_20210101_20210105.xml',\n",
       " '../data/xml/pmc_result_20210106_20210110.xml']"
      ]
     },
     "execution_count": 3,
     "metadata": {},
     "output_type": "execute_result"
    }
   ],
   "source": [
    "xml_list"
   ]
  },
  {
   "cell_type": "code",
   "execution_count": 4,
   "id": "494c422e",
   "metadata": {
    "id": "494c422e"
   },
   "outputs": [],
   "source": [
    "def load_file(filename):\n",
    "    \"\"\"\n",
    "    It reads & load the file in xml\n",
    "\n",
    "    :filename: the name of the xml file to be read\n",
    "    :return: file is loaded and it's read ready for further processes\n",
    "    \"\"\"\n",
    "    input_file= open(filename, 'r')\n",
    "    contents = input_file.read()\n",
    "    # embedding the XML with beautiful soup module\n",
    "    soup = bs(contents, 'xml')\n",
    "    #extracts of the article units \n",
    "    xml_papers = soup.find_all(\"article\")\n",
    "    \n",
    "        \n",
    "    return xml_papers"
   ]
  },
  {
   "cell_type": "code",
   "execution_count": 5,
   "id": "ac294dbf",
   "metadata": {
    "id": "ac294dbf"
   },
   "outputs": [],
   "source": [
    "def track_abstract(index:list, tempo:list)-> list:\n",
    "    \"\"\"\n",
    "    It uses the indice of whitespace to sort out the appropriate indice that contains abstract \n",
    "    \n",
    "    :index: list of indice of whitespace in a complete abstract and its other details in list form\n",
    "    :return: indice of abstract\n",
    "    \"\"\"\n",
    "\n",
    "def extract_tags(xml_papers) -> list:\n",
    "    result=[]\n",
    "    art_title,pmc_id,doi,acklge = \"\",\"\",\"\",\"\"\n",
    "    \n",
    "    for paper in xml_papers:\n",
    "        art_title = paper.find_all('article-title')[0].text\n",
    "        #print(art_title)\n",
    "\n",
    "        # getting pmc & doi\n",
    "        meta=paper.find_all(\"article-meta\")\n",
    "        art_ids = meta[0].find_all(\"article-id\")\n",
    "\n",
    "        for ids in art_ids:\n",
    "            id = ids.attrs \n",
    "\n",
    "            if id['pub-id-type'] == 'pmc':\n",
    "                pmc_id = ids.text \n",
    "                #print(ids.text)\n",
    "\n",
    "            if id['pub-id-type'] == 'doi':\n",
    "                doi = ids.text \n",
    "                #print(doi)\n",
    "            else:\n",
    "                doi = 'na'\n",
    "        # getting acknowlegdement\n",
    "        acklge_ = paper.find_all(\"ack\") #attrs\n",
    "        #print(acklge_)\n",
    "\n",
    "        #acklge = acklge_.text\n",
    "        #print(len(acklge_))\n",
    "        if len(acklge_)==0:\n",
    "            acklge = \"na\"\n",
    "            result.append([art_title,pmc_id,doi,acklge])\n",
    "        else:\n",
    "            acklge = acklge_[0].p.text\n",
    "                #print(acklge_[0].p.text,'\\n')\n",
    "            result.append([art_title,pmc_id,doi,acklge])\n",
    "        \n",
    "    return result"
   ]
  },
  {
   "cell_type": "code",
   "execution_count": 6,
   "id": "22a68db6",
   "metadata": {
    "id": "22a68db6"
   },
   "outputs": [],
   "source": [
    "def save_file(out_filename: str, input_item: list) -> csv:\n",
    "    \"\"\"\n",
    "    It write list output as 'csv' file in the current directory\n",
    "\n",
    "    :out_filename:   the name that will be give of the output file\n",
    "    :input_item:   processed data in list.\n",
    "    \"\"\"\n",
    "    with open(out_filename, \"w\") as s:\n",
    "        w = csv.writer(s)\n",
    "        for row in input_item:\n",
    "            w.writerow(row)"
   ]
  },
  {
   "cell_type": "code",
   "execution_count": null,
   "id": "e2c79cab",
   "metadata": {
    "id": "e2c79cab"
   },
   "outputs": [],
   "source": [
    "# loading the raw_xml file\n",
    "xml_extract_list =[]\n",
    "for ele in xml_list:\n",
    "    xml_extract_list.append(load_file(ele))\n",
    "\n",
    "# extracting tags of interest\n",
    "annotated_data = []\n",
    "for ele in xml_extract_list:\n",
    "    annotated_data+=extract_tags(ele)"
   ]
  },
  {
   "cell_type": "code",
   "execution_count": null,
   "id": "2533ceea",
   "metadata": {},
   "outputs": [],
   "source": [
    "# name the processed output file \n",
    "out_filename = \"../data/ack_data.csv\"\n",
    "\n",
    "# save the processed file into csv\n",
    "save_file(out_filename, annotated_data)"
   ]
  },
  {
   "cell_type": "code",
   "execution_count": null,
   "id": "d4e615b4",
   "metadata": {
    "id": "d4e615b4",
    "outputId": "2d838e23-e467-4c19-efb8-6b30a0af374f"
   },
   "outputs": [],
   "source": [
    "#checking the processed csv file\n",
    "\n",
    "#loading the \"ack_data.csv\" in pandas\n",
    "df = pd.read_csv(\"../data/ack_data.csv\",header=None)\n",
    "\n",
    "#name the columns of the processed csv file\n",
    "df.columns = ['article_title','pmc_id','doi','acknowledgement'] #art_title,pmc_id,doi,acklge\n",
    "df"
   ]
  },
  {
   "cell_type": "code",
   "execution_count": null,
   "id": "11127882",
   "metadata": {},
   "outputs": [],
   "source": []
  }
 ],
 "metadata": {
  "colab": {
   "name": "extract_acknowledge1.ipynb",
   "provenance": []
  },
  "kernelspec": {
   "display_name": "Python 3 (ipykernel)",
   "language": "python",
   "name": "python3"
  },
  "language_info": {
   "codemirror_mode": {
    "name": "ipython",
    "version": 3
   },
   "file_extension": ".py",
   "mimetype": "text/x-python",
   "name": "python",
   "nbconvert_exporter": "python",
   "pygments_lexer": "ipython3",
   "version": "3.8.12"
  }
 },
 "nbformat": 4,
 "nbformat_minor": 5
}
