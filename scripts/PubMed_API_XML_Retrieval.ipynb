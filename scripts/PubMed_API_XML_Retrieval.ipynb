{
 "cells": [
  {
   "cell_type": "code",
   "execution_count": 1,
   "id": "7bd9b84e",
   "metadata": {},
   "outputs": [],
   "source": [
    "import entrezpy.esearch.esearcher\n",
    "import entrezpy.efetch.efetcher\n",
    "import math, json, os, sys"
   ]
  },
  {
   "cell_type": "code",
   "execution_count": null,
   "id": "2d07784a",
   "metadata": {},
   "outputs": [
    {
     "name": "stdout",
     "output_type": "stream",
     "text": [
      "Search resulted in 65579 PMIDs\n"
     ]
    }
   ],
   "source": [
    "\n",
    "# search articles based on terms and filters\n",
    "search = entrezpy.esearch.esearcher.Esearcher(\"entrezpy\",\n",
    "                                         \"sbdesai2@illinois.edu\",\n",
    "                                         apikey=\"94aed072860223976082d7e4cb6cc287ae08\")\n",
    "search_analyzer = search.inquire({'db' : 'pmc',\n",
    "                      'term' : 'open access[filter]',\n",
    "                      'rettype' : 'count',\n",
    "                      'datetype' : 'pdat',\n",
    "                      'mindate' : '2022/01/01',\n",
    "                      'maxdate' : '2022/02/01'})\n",
    "\n",
    "print(f'Search resulted in {search_analyzer.result.count} PMIDs')\n",
    "\n",
    "# retrieve article information\n",
    "pmids = search_analyzer.result.uids\n",
    "retmax = 100 # maximum PMIDs per request \n",
    "\n",
    "output_folder = r'C:\\Users\\Johan\\Documents\\_Uni\\UIUC_Research\\pubmed_api\\xml'\n",
    "if not os.path.exists(output_folder):\n",
    "    os.mkdir(output_folder)\n",
    "\n",
    "for i in range(math.ceil(len(pmids) / retmax)):\n",
    "    with open(f'{output_folder}/{(i + 1) * retmax}.xml', 'w') as sys.stdout:\n",
    "        fetcher = entrezpy.efetch.efetcher.Efetcher(\"entrezpy\",\n",
    "                                           \"sbdesai2@illinois.edu\",\n",
    "                                         apikey=\"94aed072860223976082d7e4cb6cc287ae08\")\n",
    "        fetcher_analyzer = fetcher.inquire({'db' : 'pmc', 'retmode' : 'xml',\n",
    "                          'id' : pmids[i * retmax : i * retmax + retmax],\n",
    "                          'usehistory' : False})"
   ]
  },
  {
   "cell_type": "code",
   "execution_count": null,
   "id": "0b53e7fe",
   "metadata": {},
   "outputs": [],
   "source": []
  }
 ],
 "metadata": {
  "kernelspec": {
   "display_name": "Python 3",
   "language": "python",
   "name": "python3"
  },
  "language_info": {
   "codemirror_mode": {
    "name": "ipython",
    "version": 3
   },
   "file_extension": ".py",
   "mimetype": "text/x-python",
   "name": "python",
   "nbconvert_exporter": "python",
   "pygments_lexer": "ipython3",
   "version": "3.8.8"
  }
 },
 "nbformat": 4,
 "nbformat_minor": 5
}
